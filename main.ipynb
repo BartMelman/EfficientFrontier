{
 "metadata": {
  "language_info": {
   "codemirror_mode": {
    "name": "ipython",
    "version": 3
   },
   "file_extension": ".py",
   "mimetype": "text/x-python",
   "name": "python",
   "nbconvert_exporter": "python",
   "pygments_lexer": "ipython3",
   "version": "3.8.5-final"
  },
  "orig_nbformat": 2,
  "kernelspec": {
   "name": "python38564bitvirtualenvironmentvenvb5bf1b0cb505407780e29ecb583725a3",
   "display_name": "Python 3.8.5 64-bit ('virtual_environment': venv)",
   "language": "python"
  }
 },
 "nbformat": 4,
 "nbformat_minor": 2,
 "cells": [
  {
   "source": [
    "# Markovic\n",
    "\n",
    "\n",
    "[TO DO]\n",
    "- Create portfolios\n",
    "  - equally weighted always\n",
    "  - equally weighted start of the year\n",
    "  - market portfolios\n",
    "  - sectors\n",
    "  - industries\n",
    "- Create frontier\n",
    "- Function to plot mean and variance of stocks\n",
    "- Function to plot efficient frontier\n",
    "\n",
    "### Variables\n",
    "\n",
    "$$\n",
    "\\begin{equation}\n",
    "C : \\textrm{number of stocks}\\\\\n",
    "T : \\textrm{number of time observations} \\\\\n",
    "\\boldsymbol{\\mu} : \\textrm{mean stock return (C x 1)} \\\\\n",
    "\\boldsymbol{\\Sigma} : \\textrm{covariance matrix of returns (C x C)}\n",
    "\\end{equation}\n",
    "$$\n",
    "\n",
    "### Global Minimum Variance Portfolio\n",
    "\n",
    "$$\n",
    "\\begin{equation}\n",
    "\\boldsymbol{w}_{gmv} = \\frac{1}{\\iota' \\Sigma^{-1} \\iota} \\Sigma^{-1} \\iota \\\\\n",
    "\\mu_{gmv} = \\frac{1}{\\iota' \\Sigma^{-1} \\iota}\\mu' \\Sigma^{-1} \\iota \\\\\n",
    "\\sigma_{gmv}^2 = \\frac{1}{\\iota' \\Sigma^{-1} \\iota}\n",
    "\\end{equation}\n",
    "$$\n",
    "\n",
    "### Efficient Frontier\n",
    "\n",
    "$$\n",
    "\\begin{equation}\n",
    "\\boldsymbol{w} = \\lambda \\boldsymbol{w}_{mu} + (1-\\lambda) \\boldsymbol{w}_{gmv}\n",
    "\\end{equation}\n",
    "$$\n"
   ],
   "cell_type": "markdown",
   "metadata": {}
  },
  {
   "cell_type": "code",
   "execution_count": 6,
   "metadata": {},
   "outputs": [],
   "source": [
    "from pathlib import Path\n",
    "import pandas as pd\n",
    "import yfinance as yf\n",
    "import matplotlib.pyplot as plt\n",
    "import numpy as np"
   ]
  },
  {
   "cell_type": "code",
   "execution_count": 7,
   "metadata": {},
   "outputs": [],
   "source": [
    "def preprocess_column_name(column_name):\n",
    "    column_name = column_name.title().replace(' ','').strip()\n",
    "    return column_name\n"
   ]
  },
  {
   "source": [
    "### Preprocess data (only do this once)\n",
    "\n"
   ],
   "cell_type": "markdown",
   "metadata": {}
  },
  {
   "cell_type": "code",
   "execution_count": 76,
   "metadata": {},
   "outputs": [
    {
     "output_type": "stream",
     "name": "stdout",
     "text": [
      "load ticker table\nload returns table\n"
     ]
    }
   ],
   "source": [
    "path_processed_ticker_data = Path('data') / 'tickers.csv'\n",
    "path_returns = Path('data') / 'returns.csv'\n",
    "raw_ticker_path = Path('data/nasdaq_screener_1614797288539.csv')\n",
    "selected_columns = ['Symbol', 'Name', 'MarketCap', 'Country', 'Sector', 'Industry']\n",
    "\n",
    "if not path_processed_ticker_data.exists():\n",
    "    print('create processed ticker table')\n",
    "    df_tickers = pd.read_csv(raw_ticker_path)\n",
    "    df_tickers.columns = [preprocess_column_name(e) for e in df_tickers.columns]\n",
    "    df_tickers = df_tickers[selected_columns]\n",
    "    df_tickers.to_csv(path_processed_ticker_data, index=False)\n",
    "else:\n",
    "    df_tickers = pd.read_csv(path_processed_ticker_data)\n",
    "    print('load ticker table')\n",
    "\n",
    "if not path_returns.exists():\n",
    "    print('get returns table')\n",
    "    tickers = df_tickers['Symbol'].tolist()\n",
    "    df_returns = yf.download( \n",
    "    tickers = ' '.join(df_tickers['Symbol'].tolist()[:250]),\n",
    "    period = \"1y\",\n",
    "    interval = \"1d\",\n",
    "    group_by = 'ticker',\n",
    "    auto_adjust = True,\n",
    "    prepost = False,\n",
    "    threads = True,\n",
    "    proxy = None\n",
    "    )\n",
    "    df_returns.to_csv(path_returns, index=False)\n",
    "else:\n",
    "    print('load returns table')\n",
    "    df_returns = pd.read_csv(path_returns, header =[0,1])\n"
   ]
  },
  {
   "source": [
    "### Analysis"
   ],
   "cell_type": "markdown",
   "metadata": {}
  },
  {
   "cell_type": "code",
   "execution_count": 77,
   "metadata": {},
   "outputs": [
    {
     "output_type": "stream",
     "name": "stdout",
     "text": [
      "\nNumber of unique Sectors : 13\nNumber of unique Industries : 134\n\n"
     ]
    }
   ],
   "source": [
    "print(f\"\"\"\n",
    "Number of unique Sectors : {df_tickers.Sector.unique().size}\n",
    "Number of unique Industries : {df_tickers.Industry.unique().size}\n",
    "\"\"\")"
   ]
  },
  {
   "cell_type": "code",
   "execution_count": 78,
   "metadata": {
    "tags": []
   },
   "outputs": [
    {
     "output_type": "stream",
     "name": "stdout",
     "text": [
      "(254, 250)\n"
     ]
    },
    {
     "output_type": "execute_result",
     "data": {
      "text/plain": [
       "           A     AA  AAIC  AAIC^B  AAIC^C  AAN         AAP        AAT  \\\n",
       "0  79.673676  12.94  6.00     NaN     NaN  NaN  129.333755  40.629932   \n",
       "1  83.671242  12.88  6.04     NaN     NaN  NaN  131.884094  41.705006   \n",
       "\n",
       "          AB        ABB  ...  ATCO^D  ATCO^E  ATCO^G  ATCO^H  ATCO^I  ATEN  \\\n",
       "0  28.571476  20.711140  ...     NaN     NaN     NaN     NaN     NaN  6.51   \n",
       "1  29.603853  21.323954  ...     NaN     NaN     NaN     NaN     NaN  6.60   \n",
       "\n",
       "        ATGE        ATH         AX  BANC^E  \n",
       "0  29.870001  40.529999  23.590000     NaN  \n",
       "1  31.320000  42.049999  23.959999     NaN  \n",
       "\n",
       "[2 rows x 250 columns]"
      ],
      "text/html": "<div>\n<style scoped>\n    .dataframe tbody tr th:only-of-type {\n        vertical-align: middle;\n    }\n\n    .dataframe tbody tr th {\n        vertical-align: top;\n    }\n\n    .dataframe thead th {\n        text-align: right;\n    }\n</style>\n<table border=\"1\" class=\"dataframe\">\n  <thead>\n    <tr style=\"text-align: right;\">\n      <th></th>\n      <th>A</th>\n      <th>AA</th>\n      <th>AAIC</th>\n      <th>AAIC^B</th>\n      <th>AAIC^C</th>\n      <th>AAN</th>\n      <th>AAP</th>\n      <th>AAT</th>\n      <th>AB</th>\n      <th>ABB</th>\n      <th>...</th>\n      <th>ATCO^D</th>\n      <th>ATCO^E</th>\n      <th>ATCO^G</th>\n      <th>ATCO^H</th>\n      <th>ATCO^I</th>\n      <th>ATEN</th>\n      <th>ATGE</th>\n      <th>ATH</th>\n      <th>AX</th>\n      <th>BANC^E</th>\n    </tr>\n  </thead>\n  <tbody>\n    <tr>\n      <th>0</th>\n      <td>79.673676</td>\n      <td>12.94</td>\n      <td>6.00</td>\n      <td>NaN</td>\n      <td>NaN</td>\n      <td>NaN</td>\n      <td>129.333755</td>\n      <td>40.629932</td>\n      <td>28.571476</td>\n      <td>20.711140</td>\n      <td>...</td>\n      <td>NaN</td>\n      <td>NaN</td>\n      <td>NaN</td>\n      <td>NaN</td>\n      <td>NaN</td>\n      <td>6.51</td>\n      <td>29.870001</td>\n      <td>40.529999</td>\n      <td>23.590000</td>\n      <td>NaN</td>\n    </tr>\n    <tr>\n      <th>1</th>\n      <td>83.671242</td>\n      <td>12.88</td>\n      <td>6.04</td>\n      <td>NaN</td>\n      <td>NaN</td>\n      <td>NaN</td>\n      <td>131.884094</td>\n      <td>41.705006</td>\n      <td>29.603853</td>\n      <td>21.323954</td>\n      <td>...</td>\n      <td>NaN</td>\n      <td>NaN</td>\n      <td>NaN</td>\n      <td>NaN</td>\n      <td>NaN</td>\n      <td>6.60</td>\n      <td>31.320000</td>\n      <td>42.049999</td>\n      <td>23.959999</td>\n      <td>NaN</td>\n    </tr>\n  </tbody>\n</table>\n<p>2 rows × 250 columns</p>\n</div>"
     },
     "metadata": {},
     "execution_count": 78
    }
   ],
   "source": [
    "data = df_returns\n",
    "data.columns = data.columns.swaplevel()\n",
    "data.sort_index(axis=1, level=0, inplace=True)\n",
    "df = data['Close']\n",
    "print(df.shape)\n",
    "df.head(2)\n"
   ]
  },
  {
   "cell_type": "code",
   "execution_count": 79,
   "metadata": {},
   "outputs": [
    {
     "output_type": "stream",
     "name": "stdout",
     "text": [
      "\nnumber of time steps: 250\nnumber of companies: 254\nnumber of companies with full history: 163\nnumber of companies with no history: 60\n\n"
     ]
    },
    {
     "output_type": "execute_result",
     "data": {
      "text/plain": [
       "0.664"
      ]
     },
     "metadata": {},
     "execution_count": 79
    }
   ],
   "source": [
    "print(f\"\"\"\n",
    "number of time steps: {df.shape[1]}\n",
    "number of companies: {df.shape[0]}\n",
    "number of companies with full history: {df.isnull().sum().eq(0).sum()}\n",
    "number of companies with no history: {df.notnull().sum().eq(0).sum()}\n",
    "\"\"\")\n",
    "\n",
    "(df.notnull().mean()>0.9).mean()"
   ]
  },
  {
   "cell_type": "code",
   "execution_count": 80,
   "metadata": {},
   "outputs": [
    {
     "output_type": "stream",
     "name": "stdout",
     "text": [
      "(254, 163)\n"
     ]
    },
    {
     "output_type": "execute_result",
     "data": {
      "text/plain": [
       "           A     AA  AAIC         AAP        AAT         AB        ABB  \\\n",
       "0  79.673676  12.94  6.00  129.333755  40.629932  28.571476  20.711140   \n",
       "1  83.671242  12.88  6.04  131.884094  41.705006  29.603853  21.323954   \n",
       "\n",
       "        ABBV        ABC      ABEV  ...   ASIX  ASPN         ASR       ASX  \\\n",
       "0  83.125305  84.387764  3.180123  ...  14.63  8.50  164.250000  4.575711   \n",
       "1  87.093140  88.819901  3.296469  ...  14.66  8.54  168.160004  4.702004   \n",
       "\n",
       "     AT      ATCO  ATEN       ATGE        ATH         AX  \n",
       "0  2.20  9.669414  6.51  29.870001  40.529999  23.590000  \n",
       "1  2.28  9.575168  6.60  31.320000  42.049999  23.959999  \n",
       "\n",
       "[2 rows x 163 columns]"
      ],
      "text/html": "<div>\n<style scoped>\n    .dataframe tbody tr th:only-of-type {\n        vertical-align: middle;\n    }\n\n    .dataframe tbody tr th {\n        vertical-align: top;\n    }\n\n    .dataframe thead th {\n        text-align: right;\n    }\n</style>\n<table border=\"1\" class=\"dataframe\">\n  <thead>\n    <tr style=\"text-align: right;\">\n      <th></th>\n      <th>A</th>\n      <th>AA</th>\n      <th>AAIC</th>\n      <th>AAP</th>\n      <th>AAT</th>\n      <th>AB</th>\n      <th>ABB</th>\n      <th>ABBV</th>\n      <th>ABC</th>\n      <th>ABEV</th>\n      <th>...</th>\n      <th>ASIX</th>\n      <th>ASPN</th>\n      <th>ASR</th>\n      <th>ASX</th>\n      <th>AT</th>\n      <th>ATCO</th>\n      <th>ATEN</th>\n      <th>ATGE</th>\n      <th>ATH</th>\n      <th>AX</th>\n    </tr>\n  </thead>\n  <tbody>\n    <tr>\n      <th>0</th>\n      <td>79.673676</td>\n      <td>12.94</td>\n      <td>6.00</td>\n      <td>129.333755</td>\n      <td>40.629932</td>\n      <td>28.571476</td>\n      <td>20.711140</td>\n      <td>83.125305</td>\n      <td>84.387764</td>\n      <td>3.180123</td>\n      <td>...</td>\n      <td>14.63</td>\n      <td>8.50</td>\n      <td>164.250000</td>\n      <td>4.575711</td>\n      <td>2.20</td>\n      <td>9.669414</td>\n      <td>6.51</td>\n      <td>29.870001</td>\n      <td>40.529999</td>\n      <td>23.590000</td>\n    </tr>\n    <tr>\n      <th>1</th>\n      <td>83.671242</td>\n      <td>12.88</td>\n      <td>6.04</td>\n      <td>131.884094</td>\n      <td>41.705006</td>\n      <td>29.603853</td>\n      <td>21.323954</td>\n      <td>87.093140</td>\n      <td>88.819901</td>\n      <td>3.296469</td>\n      <td>...</td>\n      <td>14.66</td>\n      <td>8.54</td>\n      <td>168.160004</td>\n      <td>4.702004</td>\n      <td>2.28</td>\n      <td>9.575168</td>\n      <td>6.60</td>\n      <td>31.320000</td>\n      <td>42.049999</td>\n      <td>23.959999</td>\n    </tr>\n  </tbody>\n</table>\n<p>2 rows × 163 columns</p>\n</div>"
     },
     "metadata": {},
     "execution_count": 80
    }
   ],
   "source": [
    "df = df.T[df.isnull().sum().eq(0)].T\n",
    "print(df.shape)\n",
    "df.head(2)\n"
   ]
  },
  {
   "source": [
    "### Get stock prices and Returns"
   ],
   "cell_type": "markdown",
   "metadata": {}
  },
  {
   "cell_type": "code",
   "execution_count": 73,
   "metadata": {},
   "outputs": [],
   "source": [
    "# df = df.stack().reset_index()\n",
    "# df['Variable'] = 'Price'\n",
    "# df.columns = ['Time', 'Company', 'Value', 'Variable']\n",
    "# df"
   ]
  },
  {
   "cell_type": "code",
   "execution_count": 72,
   "metadata": {},
   "outputs": [],
   "source": [
    "# time = 2\n",
    "# company = 'A'\n",
    "# df.query('Time == @time and Variable == \"Price\" and Company == @company').iloc[0]['Value']"
   ]
  },
  {
   "cell_type": "code",
   "execution_count": 71,
   "metadata": {},
   "outputs": [],
   "source": [
    "# def get_stock_return(time, company):\n",
    "#     time_old = time-1\n",
    "#     old_price = df.query('Time == @time_old and Variable == \"Price\" and Company == @company').iloc[0]['Value']\n",
    "#     new_price = df.query('Time == @time and Variable == \"Price\" and Company == @company').iloc[0]['Value']\n",
    "#     _stock_return = (new_price-old_price)/old_price\n",
    "\n",
    "#     return _stock_return\n"
   ]
  },
  {
   "cell_type": "code",
   "execution_count": 69,
   "metadata": {},
   "outputs": [],
   "source": [
    "# from tqdm import tqdm\n",
    "\n",
    "# tqdm.pandas(desc=\"my bar!\")\n",
    "\n",
    "# df[df['Time']>0].head(1000).progress_apply(lambda x: get_stock_return(x['Time'], x['Company']), axis=1)\n"
   ]
  },
  {
   "cell_type": "code",
   "execution_count": 90,
   "metadata": {},
   "outputs": [],
   "source": [
    "p = df.to_numpy()\n",
    "T, C = p.shape\n",
    "r = np.divide((p[1:,:]-p[:-1,:]), p[:-1,:])\n",
    "r_log = np.log(1+r)\n",
    "u = r_log.mean(0)\n",
    "Sigma = np.cov(r_log.T)\n",
    "iota = np.ones((C,1))"
   ]
  },
  {
   "cell_type": "code",
   "execution_count": 92,
   "metadata": {},
   "outputs": [
    {
     "output_type": "execute_result",
     "data": {
      "text/plain": [
       "array([[92674.94791458]])"
      ]
     },
     "metadata": {},
     "execution_count": 92
    }
   ],
   "source": [
    "# company time return, company industry weight\n",
    "A = np.matmul(np.matmul(iota.T, np.linalg.inv(Sigma)), iota)\n",
    "B = "
   ]
  },
  {
   "cell_type": "code",
   "execution_count": null,
   "metadata": {},
   "outputs": [],
   "source": []
  },
  {
   "cell_type": "code",
   "execution_count": 89,
   "metadata": {},
   "outputs": [
    {
     "output_type": "execute_result",
     "data": {
      "text/plain": [
       "(163, 163)"
      ]
     },
     "metadata": {},
     "execution_count": 89
    }
   ],
   "source": [
    "Sigma.shape"
   ]
  },
  {
   "cell_type": "code",
   "execution_count": null,
   "metadata": {},
   "outputs": [],
   "source": []
  },
  {
   "source": [
    "### Get industry prices and returns (equally weighted)"
   ],
   "cell_type": "markdown",
   "metadata": {}
  },
  {
   "cell_type": "code",
   "execution_count": null,
   "metadata": {},
   "outputs": [],
   "source": []
  },
  {
   "cell_type": "code",
   "execution_count": null,
   "metadata": {},
   "outputs": [],
   "source": [
    "returns table\n",
    "ticker, time, return "
   ]
  },
  {
   "cell_type": "code",
   "execution_count": null,
   "metadata": {},
   "outputs": [],
   "source": [
    "industries equally weighted industry (I*C) * returns (C*T) = I*C*R\n",
    "(C*R)\n"
   ]
  },
  {
   "cell_type": "code",
   "execution_count": null,
   "metadata": {},
   "outputs": [],
   "source": [
    "G*C*T inner product G*C*T"
   ]
  },
  {
   "cell_type": "code",
   "execution_count": null,
   "metadata": {},
   "outputs": [],
   "source": []
  },
  {
   "cell_type": "code",
   "execution_count": null,
   "metadata": {},
   "outputs": [],
   "source": []
  },
  {
   "cell_type": "code",
   "execution_count": 212,
   "metadata": {},
   "outputs": [],
   "source": [
    "vol = np.sqrt(Sigma.diagonal())\n",
    "x = vol\n",
    "y = u"
   ]
  },
  {
   "cell_type": "code",
   "execution_count": 221,
   "metadata": {},
   "outputs": [
    {
     "output_type": "display_data",
     "data": {
      "text/plain": "<Figure size 432x288 with 1 Axes>",
      "image/svg+xml": "<?xml version=\"1.0\" encoding=\"utf-8\" standalone=\"no\"?>\n<!DOCTYPE svg PUBLIC \"-//W3C//DTD SVG 1.1//EN\"\n  \"http://www.w3.org/Graphics/SVG/1.1/DTD/svg11.dtd\">\n<!-- Created with matplotlib (https://matplotlib.org/) -->\n<svg height=\"257.98375pt\" version=\"1.1\" viewBox=\"0 0 396.884375 257.98375\" width=\"396.884375pt\" xmlns=\"http://www.w3.org/2000/svg\" xmlns:xlink=\"http://www.w3.org/1999/xlink\">\n <metadata>\n  <rdf:RDF xmlns:cc=\"http://creativecommons.org/ns#\" xmlns:dc=\"http://purl.org/dc/elements/1.1/\" xmlns:rdf=\"http://www.w3.org/1999/02/22-rdf-syntax-ns#\">\n   <cc:Work>\n    <dc:type rdf:resource=\"http://purl.org/dc/dcmitype/StillImage\"/>\n    <dc:date>2021-03-03T20:31:13.937204</dc:date>\n    <dc:format>image/svg+xml</dc:format>\n    <dc:creator>\n     <cc:Agent>\n      <dc:title>Matplotlib v3.3.2, https://matplotlib.org/</dc:title>\n     </cc:Agent>\n    </dc:creator>\n   </cc:Work>\n  </rdf:RDF>\n </metadata>\n <defs>\n  <style type=\"text/css\">*{stroke-linecap:butt;stroke-linejoin:round;}</style>\n </defs>\n <g id=\"figure_1\">\n  <g id=\"patch_1\">\n   <path d=\"M 0 257.98375 \nL 396.884375 257.98375 \nL 396.884375 0 \nL 0 0 \nz\n\" style=\"fill:#ffffff;\"/>\n  </g>\n  <g id=\"axes_1\">\n   <g id=\"patch_2\">\n    <path d=\"M 54.884375 224.64 \nL 389.684375 224.64 \nL 389.684375 7.2 \nL 54.884375 7.2 \nz\n\" style=\"fill:#ffffff;\"/>\n   </g>\n   <g id=\"matplotlib.axis_1\">\n    <g id=\"xtick_1\">\n     <g id=\"line2d_1\">\n      <path clip-path=\"url(#p3ba16d14c0)\" d=\"M 86.272052 224.64 \nL 86.272052 7.2 \n\" style=\"fill:none;stroke:#cccccc;stroke-linecap:round;stroke-width:0.8;\"/>\n     </g>\n     <g id=\"line2d_2\"/>\n     <g id=\"text_1\">\n      <!-- 0.02 -->\n      <g style=\"fill:#262626;\" transform=\"translate(76.541583 235.386875)scale(0.1 -0.1)\">\n       <defs>\n        <path d=\"M 51.703125 34.421875 \nQ 51.703125 24.515625 49.828125 17.75 \nQ 47.953125 10.984375 44.703125 6.8125 \nQ 41.453125 2.640625 37.0625 0.828125 \nQ 32.671875 -0.984375 27.6875 -0.984375 \nQ 22.65625 -0.984375 18.3125 0.828125 \nQ 13.96875 2.640625 10.765625 6.78125 \nQ 7.5625 10.9375 5.734375 17.703125 \nQ 3.90625 24.46875 3.90625 34.421875 \nQ 3.90625 44.828125 5.734375 51.640625 \nQ 7.5625 58.453125 10.78125 62.5 \nQ 14.015625 66.546875 18.40625 68.1875 \nQ 22.796875 69.828125 27.984375 69.828125 \nQ 32.90625 69.828125 37.21875 68.1875 \nQ 41.546875 66.546875 44.765625 62.5 \nQ 48 58.453125 49.84375 51.640625 \nQ 51.703125 44.828125 51.703125 34.421875 \nz\nM 42.78125 34.421875 \nQ 42.78125 42.625 41.796875 48.0625 \nQ 40.828125 53.515625 38.921875 56.765625 \nQ 37.015625 60.015625 34.25 61.359375 \nQ 31.5 62.703125 27.984375 62.703125 \nQ 24.265625 62.703125 21.4375 61.328125 \nQ 18.609375 59.96875 16.671875 56.71875 \nQ 14.75 53.46875 13.765625 48.015625 \nQ 12.796875 42.578125 12.796875 34.421875 \nQ 12.796875 26.515625 13.796875 21.09375 \nQ 14.796875 15.671875 16.71875 12.375 \nQ 18.65625 9.078125 21.4375 7.640625 \nQ 24.21875 6.203125 27.78125 6.203125 \nQ 31.25 6.203125 34.03125 7.640625 \nQ 36.8125 9.078125 38.734375 12.375 \nQ 40.671875 15.671875 41.71875 21.09375 \nQ 42.78125 26.515625 42.78125 34.421875 \nz\n\" id=\"LiberationSans-48\"/>\n        <path d=\"M 9.125 0 \nL 9.125 10.6875 \nL 18.65625 10.6875 \nL 18.65625 0 \nz\n\" id=\"LiberationSans-46\"/>\n        <path d=\"M 5.03125 0 \nL 5.03125 6.203125 \nQ 7.515625 11.921875 11.109375 16.28125 \nQ 14.703125 20.65625 18.65625 24.1875 \nQ 22.609375 27.734375 26.484375 30.765625 \nQ 30.375 33.796875 33.5 36.8125 \nQ 36.625 39.84375 38.546875 43.15625 \nQ 40.484375 46.484375 40.484375 50.6875 \nQ 40.484375 53.609375 39.59375 55.828125 \nQ 38.71875 58.0625 37.0625 59.5625 \nQ 35.40625 61.078125 33.078125 61.828125 \nQ 30.765625 62.59375 27.9375 62.59375 \nQ 25.296875 62.59375 22.96875 61.859375 \nQ 20.65625 61.140625 18.84375 59.671875 \nQ 17.046875 58.203125 15.890625 56.03125 \nQ 14.75 53.859375 14.40625 50.984375 \nL 5.421875 51.8125 \nQ 5.859375 55.515625 7.46875 58.78125 \nQ 9.078125 62.0625 11.90625 64.53125 \nQ 14.75 67 18.71875 68.40625 \nQ 22.703125 69.828125 27.9375 69.828125 \nQ 33.0625 69.828125 37.0625 68.609375 \nQ 41.0625 67.390625 43.8125 64.984375 \nQ 46.578125 62.59375 48.046875 59.078125 \nQ 49.515625 55.5625 49.515625 50.984375 \nQ 49.515625 47.515625 48.265625 44.390625 \nQ 47.015625 41.265625 44.9375 38.421875 \nQ 42.875 35.59375 40.140625 32.953125 \nQ 37.40625 30.328125 34.421875 27.8125 \nQ 31.453125 25.296875 28.421875 22.828125 \nQ 25.390625 20.359375 22.71875 17.859375 \nQ 20.0625 15.375 17.96875 12.8125 \nQ 15.875 10.25 14.703125 7.46875 \nL 50.59375 7.46875 \nL 50.59375 0 \nz\n\" id=\"LiberationSans-50\"/>\n       </defs>\n       <use xlink:href=\"#LiberationSans-48\"/>\n       <use x=\"55.615234\" xlink:href=\"#LiberationSans-46\"/>\n       <use x=\"83.398438\" xlink:href=\"#LiberationSans-48\"/>\n       <use x=\"139.013672\" xlink:href=\"#LiberationSans-50\"/>\n      </g>\n     </g>\n    </g>\n    <g id=\"xtick_2\">\n     <g id=\"line2d_3\">\n      <path clip-path=\"url(#p3ba16d14c0)\" d=\"M 132.668404 224.64 \nL 132.668404 7.2 \n\" style=\"fill:none;stroke:#cccccc;stroke-linecap:round;stroke-width:0.8;\"/>\n     </g>\n     <g id=\"line2d_4\"/>\n     <g id=\"text_2\">\n      <!-- 0.04 -->\n      <g style=\"fill:#262626;\" transform=\"translate(122.937935 235.386875)scale(0.1 -0.1)\">\n       <defs>\n        <path d=\"M 43.015625 15.578125 \nL 43.015625 0 \nL 34.71875 0 \nL 34.71875 15.578125 \nL 2.296875 15.578125 \nL 2.296875 22.40625 \nL 33.796875 68.796875 \nL 43.015625 68.796875 \nL 43.015625 22.515625 \nL 52.6875 22.515625 \nL 52.6875 15.578125 \nz\nM 34.71875 58.890625 \nQ 34.625 58.640625 34.234375 57.9375 \nQ 33.84375 57.234375 33.34375 56.34375 \nQ 32.859375 55.46875 32.34375 54.5625 \nQ 31.84375 53.65625 31.453125 53.078125 \nL 13.8125 27.09375 \nQ 13.578125 26.703125 13.109375 26.0625 \nQ 12.640625 25.4375 12.15625 24.78125 \nQ 11.671875 24.125 11.171875 23.484375 \nQ 10.6875 22.859375 10.40625 22.515625 \nL 34.71875 22.515625 \nz\n\" id=\"LiberationSans-52\"/>\n       </defs>\n       <use xlink:href=\"#LiberationSans-48\"/>\n       <use x=\"55.615234\" xlink:href=\"#LiberationSans-46\"/>\n       <use x=\"83.398438\" xlink:href=\"#LiberationSans-48\"/>\n       <use x=\"139.013672\" xlink:href=\"#LiberationSans-52\"/>\n      </g>\n     </g>\n    </g>\n    <g id=\"xtick_3\">\n     <g id=\"line2d_5\">\n      <path clip-path=\"url(#p3ba16d14c0)\" d=\"M 179.064756 224.64 \nL 179.064756 7.2 \n\" style=\"fill:none;stroke:#cccccc;stroke-linecap:round;stroke-width:0.8;\"/>\n     </g>\n     <g id=\"line2d_6\"/>\n     <g id=\"text_3\">\n      <!-- 0.06 -->\n      <g style=\"fill:#262626;\" transform=\"translate(169.334287 235.386875)scale(0.1 -0.1)\">\n       <defs>\n        <path d=\"M 51.21875 22.515625 \nQ 51.21875 17.328125 49.78125 13 \nQ 48.34375 8.6875 45.53125 5.578125 \nQ 42.71875 2.484375 38.5625 0.75 \nQ 34.421875 -0.984375 29 -0.984375 \nQ 23 -0.984375 18.5 1.3125 \nQ 14.015625 3.609375 11.03125 7.921875 \nQ 8.0625 12.25 6.5625 18.53125 \nQ 5.078125 24.8125 5.078125 32.8125 \nQ 5.078125 42 6.765625 48.921875 \nQ 8.453125 55.859375 11.625 60.5 \nQ 14.796875 65.140625 19.359375 67.484375 \nQ 23.921875 69.828125 29.6875 69.828125 \nQ 33.203125 69.828125 36.28125 69.09375 \nQ 39.359375 68.359375 41.875 66.71875 \nQ 44.390625 65.09375 46.28125 62.40625 \nQ 48.1875 59.71875 49.3125 55.8125 \nL 40.921875 54.296875 \nQ 39.546875 58.734375 36.546875 60.71875 \nQ 33.546875 62.703125 29.59375 62.703125 \nQ 25.984375 62.703125 23.046875 60.984375 \nQ 20.125 59.28125 18.0625 55.875 \nQ 16.015625 52.484375 14.90625 47.359375 \nQ 13.8125 42.234375 13.8125 35.40625 \nQ 16.21875 39.84375 20.5625 42.15625 \nQ 24.90625 44.484375 30.515625 44.484375 \nQ 35.203125 44.484375 39.015625 42.96875 \nQ 42.828125 41.453125 45.53125 38.59375 \nQ 48.25 35.75 49.734375 31.671875 \nQ 51.21875 27.59375 51.21875 22.515625 \nz\nM 42.28125 22.125 \nQ 42.28125 25.6875 41.40625 28.5625 \nQ 40.53125 31.453125 38.765625 33.46875 \nQ 37.015625 35.5 34.421875 36.59375 \nQ 31.84375 37.703125 28.421875 37.703125 \nQ 26.03125 37.703125 23.578125 36.984375 \nQ 21.140625 36.28125 19.15625 34.6875 \nQ 17.1875 33.109375 15.9375 30.515625 \nQ 14.703125 27.9375 14.703125 24.21875 \nQ 14.703125 20.40625 15.671875 17.109375 \nQ 16.65625 13.8125 18.484375 11.375 \nQ 20.3125 8.9375 22.890625 7.515625 \nQ 25.484375 6.109375 28.71875 6.109375 \nQ 31.890625 6.109375 34.40625 7.203125 \nQ 36.921875 8.296875 38.671875 10.375 \nQ 40.4375 12.453125 41.359375 15.421875 \nQ 42.28125 18.40625 42.28125 22.125 \nz\n\" id=\"LiberationSans-54\"/>\n       </defs>\n       <use xlink:href=\"#LiberationSans-48\"/>\n       <use x=\"55.615234\" xlink:href=\"#LiberationSans-46\"/>\n       <use x=\"83.398438\" xlink:href=\"#LiberationSans-48\"/>\n       <use x=\"139.013672\" xlink:href=\"#LiberationSans-54\"/>\n      </g>\n     </g>\n    </g>\n    <g id=\"xtick_4\">\n     <g id=\"line2d_7\">\n      <path clip-path=\"url(#p3ba16d14c0)\" d=\"M 225.461108 224.64 \nL 225.461108 7.2 \n\" style=\"fill:none;stroke:#cccccc;stroke-linecap:round;stroke-width:0.8;\"/>\n     </g>\n     <g id=\"line2d_8\"/>\n     <g id=\"text_4\">\n      <!-- 0.08 -->\n      <g style=\"fill:#262626;\" transform=\"translate(215.73064 235.386875)scale(0.1 -0.1)\">\n       <defs>\n        <path d=\"M 51.265625 19.1875 \nQ 51.265625 14.796875 49.875 11.109375 \nQ 48.484375 7.421875 45.625 4.734375 \nQ 42.78125 2.046875 38.328125 0.53125 \nQ 33.890625 -0.984375 27.828125 -0.984375 \nQ 21.78125 -0.984375 17.359375 0.53125 \nQ 12.9375 2.046875 10.03125 4.703125 \nQ 7.125 7.375 5.734375 11.0625 \nQ 4.34375 14.75 4.34375 19.09375 \nQ 4.34375 22.859375 5.484375 25.78125 \nQ 6.640625 28.71875 8.5625 30.828125 \nQ 10.5 32.953125 12.96875 34.25 \nQ 15.4375 35.546875 18.0625 35.984375 \nL 18.0625 36.1875 \nQ 15.1875 36.859375 12.90625 38.375 \nQ 10.640625 39.890625 9.09375 42.015625 \nQ 7.5625 44.140625 6.75 46.71875 \nQ 5.953125 49.3125 5.953125 52.203125 \nQ 5.953125 55.8125 7.34375 59 \nQ 8.734375 62.203125 11.46875 64.625 \nQ 14.203125 67.046875 18.25 68.4375 \nQ 22.3125 69.828125 27.640625 69.828125 \nQ 33.25 69.828125 37.375 68.40625 \nQ 41.5 67 44.203125 64.578125 \nQ 46.921875 62.15625 48.234375 58.9375 \nQ 49.5625 55.71875 49.5625 52.09375 \nQ 49.5625 49.265625 48.75 46.671875 \nQ 47.953125 44.09375 46.40625 41.96875 \nQ 44.875 39.84375 42.59375 38.34375 \nQ 40.328125 36.859375 37.359375 36.28125 \nL 37.359375 36.078125 \nQ 40.328125 35.59375 42.859375 34.296875 \nQ 45.40625 33.015625 47.265625 30.890625 \nQ 49.125 28.765625 50.1875 25.828125 \nQ 51.265625 22.90625 51.265625 19.1875 \nz\nM 40.4375 51.609375 \nQ 40.4375 54.203125 39.765625 56.34375 \nQ 39.109375 58.5 37.59375 60.03125 \nQ 36.078125 61.578125 33.640625 62.421875 \nQ 31.203125 63.28125 27.640625 63.28125 \nQ 24.171875 63.28125 21.78125 62.421875 \nQ 19.390625 61.578125 17.84375 60.03125 \nQ 16.3125 58.5 15.625 56.34375 \nQ 14.9375 54.203125 14.9375 51.609375 \nQ 14.9375 49.5625 15.46875 47.40625 \nQ 16.015625 45.265625 17.421875 43.5 \nQ 18.84375 41.75 21.328125 40.625 \nQ 23.828125 39.5 27.734375 39.5 \nQ 31.890625 39.5 34.40625 40.625 \nQ 36.921875 41.75 38.25 43.5 \nQ 39.59375 45.265625 40.015625 47.40625 \nQ 40.4375 49.5625 40.4375 51.609375 \nz\nM 42.140625 20.015625 \nQ 42.140625 22.515625 41.453125 24.828125 \nQ 40.765625 27.15625 39.109375 28.9375 \nQ 37.453125 30.71875 34.640625 31.8125 \nQ 31.84375 32.90625 27.640625 32.90625 \nQ 23.78125 32.90625 21.0625 31.8125 \nQ 18.359375 30.71875 16.671875 28.90625 \nQ 14.984375 27.09375 14.203125 24.71875 \nQ 13.421875 22.359375 13.421875 19.828125 \nQ 13.421875 16.65625 14.203125 14.03125 \nQ 14.984375 11.421875 16.6875 9.546875 \nQ 18.40625 7.671875 21.1875 6.640625 \nQ 23.96875 5.609375 27.9375 5.609375 \nQ 31.9375 5.609375 34.671875 6.640625 \nQ 37.40625 7.671875 39.0625 9.546875 \nQ 40.71875 11.421875 41.421875 14.078125 \nQ 42.140625 16.75 42.140625 20.015625 \nz\n\" id=\"LiberationSans-56\"/>\n       </defs>\n       <use xlink:href=\"#LiberationSans-48\"/>\n       <use x=\"55.615234\" xlink:href=\"#LiberationSans-46\"/>\n       <use x=\"83.398438\" xlink:href=\"#LiberationSans-48\"/>\n       <use x=\"139.013672\" xlink:href=\"#LiberationSans-56\"/>\n      </g>\n     </g>\n    </g>\n    <g id=\"xtick_5\">\n     <g id=\"line2d_9\">\n      <path clip-path=\"url(#p3ba16d14c0)\" d=\"M 271.857461 224.64 \nL 271.857461 7.2 \n\" style=\"fill:none;stroke:#cccccc;stroke-linecap:round;stroke-width:0.8;\"/>\n     </g>\n     <g id=\"line2d_10\"/>\n     <g id=\"text_5\">\n      <!-- 0.10 -->\n      <g style=\"fill:#262626;\" transform=\"translate(262.126992 235.386875)scale(0.1 -0.1)\">\n       <defs>\n        <path d=\"M 7.625 0 \nL 7.625 7.46875 \nL 25.140625 7.46875 \nL 25.140625 60.40625 \nL 9.625 49.3125 \nL 9.625 57.625 \nL 25.875 68.796875 \nL 33.984375 68.796875 \nL 33.984375 7.46875 \nL 50.734375 7.46875 \nL 50.734375 0 \nz\n\" id=\"LiberationSans-49\"/>\n       </defs>\n       <use xlink:href=\"#LiberationSans-48\"/>\n       <use x=\"55.615234\" xlink:href=\"#LiberationSans-46\"/>\n       <use x=\"83.398438\" xlink:href=\"#LiberationSans-49\"/>\n       <use x=\"139.013672\" xlink:href=\"#LiberationSans-48\"/>\n      </g>\n     </g>\n    </g>\n    <g id=\"xtick_6\">\n     <g id=\"line2d_11\">\n      <path clip-path=\"url(#p3ba16d14c0)\" d=\"M 318.253813 224.64 \nL 318.253813 7.2 \n\" style=\"fill:none;stroke:#cccccc;stroke-linecap:round;stroke-width:0.8;\"/>\n     </g>\n     <g id=\"line2d_12\"/>\n     <g id=\"text_6\">\n      <!-- 0.12 -->\n      <g style=\"fill:#262626;\" transform=\"translate(308.523344 235.386875)scale(0.1 -0.1)\">\n       <use xlink:href=\"#LiberationSans-48\"/>\n       <use x=\"55.615234\" xlink:href=\"#LiberationSans-46\"/>\n       <use x=\"83.398438\" xlink:href=\"#LiberationSans-49\"/>\n       <use x=\"139.013672\" xlink:href=\"#LiberationSans-50\"/>\n      </g>\n     </g>\n    </g>\n    <g id=\"xtick_7\">\n     <g id=\"line2d_13\">\n      <path clip-path=\"url(#p3ba16d14c0)\" d=\"M 364.650165 224.64 \nL 364.650165 7.2 \n\" style=\"fill:none;stroke:#cccccc;stroke-linecap:round;stroke-width:0.8;\"/>\n     </g>\n     <g id=\"line2d_14\"/>\n     <g id=\"text_7\">\n      <!-- 0.14 -->\n      <g style=\"fill:#262626;\" transform=\"translate(354.919696 235.386875)scale(0.1 -0.1)\">\n       <use xlink:href=\"#LiberationSans-48\"/>\n       <use x=\"55.615234\" xlink:href=\"#LiberationSans-46\"/>\n       <use x=\"83.398438\" xlink:href=\"#LiberationSans-49\"/>\n       <use x=\"139.013672\" xlink:href=\"#LiberationSans-52\"/>\n      </g>\n     </g>\n    </g>\n    <g id=\"text_8\">\n     <!-- standard deviation -->\n     <g style=\"fill:#262626;\" transform=\"translate(181.425781 248.70875)scale(0.1 -0.1)\">\n      <defs>\n       <path d=\"M 46.390625 14.59375 \nQ 46.390625 10.890625 44.9375 7.984375 \nQ 43.5 5.078125 40.765625 3.09375 \nQ 38.03125 1.125 34.046875 0.0625 \nQ 30.078125 -0.984375 24.953125 -0.984375 \nQ 20.359375 -0.984375 16.671875 -0.265625 \nQ 12.984375 0.4375 10.203125 2 \nQ 7.421875 3.5625 5.53125 6.125 \nQ 3.65625 8.6875 2.78125 12.40625 \nL 10.546875 13.921875 \nQ 11.671875 9.671875 15.1875 7.6875 \nQ 18.703125 5.71875 24.953125 5.71875 \nQ 27.78125 5.71875 30.140625 6.109375 \nQ 32.515625 6.5 34.21875 7.453125 \nQ 35.9375 8.40625 36.890625 9.984375 \nQ 37.84375 11.578125 37.84375 13.921875 \nQ 37.84375 16.3125 36.71875 17.84375 \nQ 35.59375 19.390625 33.59375 20.40625 \nQ 31.59375 21.4375 28.734375 22.1875 \nQ 25.875 22.953125 22.46875 23.875 \nQ 19.28125 24.703125 16.15625 25.734375 \nQ 13.03125 26.765625 10.515625 28.4375 \nQ 8.015625 30.125 6.453125 32.609375 \nQ 4.890625 35.109375 4.890625 38.875 \nQ 4.890625 46.09375 10.03125 49.875 \nQ 15.1875 53.65625 25.046875 53.65625 \nQ 33.796875 53.65625 38.9375 50.578125 \nQ 44.09375 47.515625 45.453125 40.71875 \nL 37.546875 39.75 \nQ 37.109375 41.796875 35.9375 43.1875 \nQ 34.765625 44.578125 33.109375 45.4375 \nQ 31.453125 46.296875 29.375 46.65625 \nQ 27.296875 47.015625 25.046875 47.015625 \nQ 19.09375 47.015625 16.25 45.203125 \nQ 13.421875 43.40625 13.421875 39.75 \nQ 13.421875 37.59375 14.46875 36.203125 \nQ 15.53125 34.8125 17.40625 33.859375 \nQ 19.28125 32.90625 21.921875 32.203125 \nQ 24.5625 31.5 27.734375 30.71875 \nQ 29.828125 30.171875 32.03125 29.5625 \nQ 34.234375 28.953125 36.296875 28.09375 \nQ 38.375 27.25 40.203125 26.09375 \nQ 42.046875 24.953125 43.40625 23.34375 \nQ 44.78125 21.734375 45.578125 19.578125 \nQ 46.390625 17.4375 46.390625 14.59375 \nz\n\" id=\"LiberationSans-115\"/>\n       <path d=\"M 27.046875 0.390625 \nQ 25.046875 -0.140625 22.96875 -0.453125 \nQ 20.90625 -0.78125 18.171875 -0.78125 \nQ 7.625 -0.78125 7.625 11.1875 \nL 7.625 46.4375 \nL 1.515625 46.4375 \nL 1.515625 52.828125 \nL 7.953125 52.828125 \nL 10.546875 64.65625 \nL 16.40625 64.65625 \nL 16.40625 52.828125 \nL 26.171875 52.828125 \nL 26.171875 46.4375 \nL 16.40625 46.4375 \nL 16.40625 13.09375 \nQ 16.40625 9.28125 17.640625 7.734375 \nQ 18.890625 6.203125 21.96875 6.203125 \nQ 23.25 6.203125 24.4375 6.390625 \nQ 25.640625 6.59375 27.046875 6.890625 \nz\n\" id=\"LiberationSans-116\"/>\n       <path d=\"M 20.21875 -0.984375 \nQ 12.25 -0.984375 8.25 3.21875 \nQ 4.25 7.421875 4.25 14.75 \nQ 4.25 19.96875 6.21875 23.3125 \nQ 8.203125 26.65625 11.390625 28.5625 \nQ 14.59375 30.46875 18.6875 31.203125 \nQ 22.796875 31.9375 27.046875 32.03125 \nL 38.921875 32.234375 \nL 38.921875 35.109375 \nQ 38.921875 38.375 38.234375 40.671875 \nQ 37.546875 42.96875 36.125 44.375 \nQ 34.71875 45.796875 32.59375 46.453125 \nQ 30.46875 47.125 27.59375 47.125 \nQ 25.046875 47.125 23 46.75 \nQ 20.953125 46.390625 19.4375 45.4375 \nQ 17.921875 44.484375 16.984375 42.84375 \nQ 16.0625 41.21875 15.765625 38.71875 \nL 6.59375 39.546875 \nQ 7.078125 42.671875 8.4375 45.28125 \nQ 9.8125 47.90625 12.328125 49.796875 \nQ 14.84375 51.703125 18.625 52.75 \nQ 22.40625 53.8125 27.78125 53.8125 \nQ 37.75 53.8125 42.765625 49.234375 \nQ 47.796875 44.671875 47.796875 36.03125 \nL 47.796875 13.28125 \nQ 47.796875 9.375 48.828125 7.390625 \nQ 49.859375 5.421875 52.734375 5.421875 \nQ 53.46875 5.421875 54.203125 5.515625 \nQ 54.9375 5.609375 55.609375 5.765625 \nL 55.609375 0.296875 \nQ 53.953125 -0.09375 52.3125 -0.28125 \nQ 50.6875 -0.484375 48.828125 -0.484375 \nQ 46.34375 -0.484375 44.5625 0.171875 \nQ 42.78125 0.828125 41.65625 2.171875 \nQ 40.53125 3.515625 39.9375 5.484375 \nQ 39.359375 7.46875 39.203125 10.109375 \nL 38.921875 10.109375 \nQ 37.5 7.5625 35.8125 5.515625 \nQ 34.125 3.46875 31.875 2.03125 \nQ 29.640625 0.59375 26.78125 -0.1875 \nQ 23.921875 -0.984375 20.21875 -0.984375 \nz\nM 22.21875 5.609375 \nQ 26.421875 5.609375 29.5625 7.140625 \nQ 32.71875 8.6875 34.78125 11.078125 \nQ 36.859375 13.484375 37.890625 16.3125 \nQ 38.921875 19.140625 38.921875 21.734375 \nL 38.921875 26.078125 \nL 29.296875 25.875 \nQ 26.078125 25.828125 23.171875 25.40625 \nQ 20.265625 25 18.0625 23.78125 \nQ 15.875 22.5625 14.578125 20.359375 \nQ 13.28125 18.171875 13.28125 14.59375 \nQ 13.28125 10.296875 15.59375 7.953125 \nQ 17.921875 5.609375 22.21875 5.609375 \nz\n\" id=\"LiberationSans-97\"/>\n       <path d=\"M 40.28125 0 \nL 40.28125 33.5 \nQ 40.28125 37.359375 39.71875 39.9375 \nQ 39.15625 42.53125 37.890625 44.109375 \nQ 36.625 45.703125 34.546875 46.359375 \nQ 32.46875 47.015625 29.390625 47.015625 \nQ 26.265625 47.015625 23.75 45.921875 \nQ 21.234375 44.828125 19.453125 42.75 \nQ 17.671875 40.671875 16.6875 37.625 \nQ 15.71875 34.578125 15.71875 30.609375 \nL 15.71875 0 \nL 6.9375 0 \nL 6.9375 41.546875 \nQ 6.9375 43.21875 6.90625 45.046875 \nQ 6.890625 46.875 6.828125 48.5 \nQ 6.78125 50.140625 6.734375 51.3125 \nQ 6.6875 52.484375 6.640625 52.828125 \nL 14.9375 52.828125 \nQ 14.984375 52.59375 15.03125 51.515625 \nQ 15.09375 50.4375 15.15625 49.046875 \nQ 15.234375 47.65625 15.28125 46.21875 \nQ 15.328125 44.78125 15.328125 43.796875 \nL 15.484375 43.796875 \nQ 16.75 46.09375 18.265625 47.953125 \nQ 19.78125 49.8125 21.78125 51.09375 \nQ 23.78125 52.390625 26.359375 53.09375 \nQ 28.953125 53.8125 32.375 53.8125 \nQ 36.765625 53.8125 39.9375 52.734375 \nQ 43.109375 51.65625 45.15625 49.40625 \nQ 47.21875 47.171875 48.171875 43.625 \nQ 49.125 40.09375 49.125 35.203125 \nL 49.125 0 \nz\n\" id=\"LiberationSans-110\"/>\n       <path d=\"M 40.09375 8.5 \nQ 37.640625 3.421875 33.609375 1.21875 \nQ 29.59375 -0.984375 23.640625 -0.984375 \nQ 13.625 -0.984375 8.90625 5.75 \nQ 4.203125 12.5 4.203125 26.171875 \nQ 4.203125 53.8125 23.640625 53.8125 \nQ 29.640625 53.8125 33.640625 51.609375 \nQ 37.640625 49.421875 40.09375 44.625 \nL 40.1875 44.625 \nQ 40.1875 45.125 40.15625 46.171875 \nQ 40.140625 47.21875 40.109375 48.359375 \nQ 40.09375 49.515625 40.09375 50.53125 \nQ 40.09375 51.5625 40.09375 52 \nL 40.09375 72.46875 \nL 48.875 72.46875 \nL 48.875 10.890625 \nQ 48.875 8.984375 48.890625 7.21875 \nQ 48.921875 5.46875 48.96875 4 \nQ 49.03125 2.546875 49.078125 1.484375 \nQ 49.125 0.4375 49.171875 0 \nL 40.765625 0 \nQ 40.671875 0.484375 40.59375 1.390625 \nQ 40.53125 2.296875 40.453125 3.46875 \nQ 40.375 4.640625 40.328125 5.9375 \nQ 40.28125 7.234375 40.28125 8.5 \nz\nM 13.421875 26.46875 \nQ 13.421875 21 14.109375 17.09375 \nQ 14.796875 13.1875 16.3125 10.671875 \nQ 17.828125 8.15625 20.171875 6.984375 \nQ 22.515625 5.8125 25.875 5.8125 \nQ 29.34375 5.8125 32 6.9375 \nQ 34.671875 8.0625 36.453125 10.578125 \nQ 38.234375 13.09375 39.15625 17.140625 \nQ 40.09375 21.1875 40.09375 27.046875 \nQ 40.09375 32.671875 39.15625 36.546875 \nQ 38.234375 40.4375 36.421875 42.828125 \nQ 34.625 45.21875 32 46.265625 \nQ 29.390625 47.3125 25.984375 47.3125 \nQ 22.75 47.3125 20.40625 46.1875 \nQ 18.0625 45.0625 16.5 42.578125 \nQ 14.9375 40.09375 14.171875 36.109375 \nQ 13.421875 32.125 13.421875 26.46875 \nz\n\" id=\"LiberationSans-100\"/>\n       <path d=\"M 6.9375 0 \nL 6.9375 40.53125 \nQ 6.9375 42.1875 6.90625 43.921875 \nQ 6.890625 45.65625 6.828125 47.265625 \nQ 6.78125 48.875 6.734375 50.28125 \nQ 6.6875 51.703125 6.640625 52.828125 \nL 14.9375 52.828125 \nQ 14.984375 51.703125 15.0625 50.265625 \nQ 15.140625 48.828125 15.203125 47.3125 \nQ 15.28125 45.796875 15.296875 44.40625 \nQ 15.328125 43.015625 15.328125 42.046875 \nL 15.53125 42.046875 \nQ 16.453125 45.0625 17.5 47.28125 \nQ 18.5625 49.515625 19.96875 50.953125 \nQ 21.390625 52.390625 23.34375 53.09375 \nQ 25.296875 53.8125 28.078125 53.8125 \nQ 29.15625 53.8125 30.125 53.640625 \nQ 31.109375 53.46875 31.640625 53.328125 \nL 31.640625 45.265625 \nQ 30.765625 45.515625 29.59375 45.625 \nQ 28.421875 45.75 26.953125 45.75 \nQ 23.921875 45.75 21.796875 44.375 \nQ 19.671875 43.015625 18.328125 40.59375 \nQ 17 38.1875 16.359375 34.84375 \nQ 15.71875 31.5 15.71875 27.546875 \nL 15.71875 0 \nz\n\" id=\"LiberationSans-114\"/>\n       <path id=\"LiberationSans-32\"/>\n       <path d=\"M 13.484375 24.5625 \nQ 13.484375 20.40625 14.328125 16.90625 \nQ 15.1875 13.421875 16.96875 10.90625 \nQ 18.75 8.40625 21.53125 7 \nQ 24.3125 5.609375 28.21875 5.609375 \nQ 33.9375 5.609375 37.375 7.90625 \nQ 40.828125 10.203125 42.046875 13.71875 \nL 49.75 11.53125 \nQ 48.921875 9.328125 47.4375 7.109375 \nQ 45.953125 4.890625 43.453125 3.09375 \nQ 40.96875 1.3125 37.234375 0.15625 \nQ 33.5 -0.984375 28.21875 -0.984375 \nQ 16.5 -0.984375 10.375 6 \nQ 4.25 12.984375 4.25 26.765625 \nQ 4.25 34.1875 6.09375 39.328125 \nQ 7.953125 44.484375 11.171875 47.703125 \nQ 14.40625 50.921875 18.703125 52.359375 \nQ 23 53.8125 27.875 53.8125 \nQ 34.515625 53.8125 38.984375 51.65625 \nQ 43.453125 49.515625 46.15625 45.71875 \nQ 48.875 41.9375 50.015625 36.8125 \nQ 51.171875 31.6875 51.171875 25.734375 \nL 51.171875 24.5625 \nz\nM 42.09375 31.296875 \nQ 41.359375 39.65625 37.84375 43.484375 \nQ 34.328125 47.3125 27.734375 47.3125 \nQ 25.53125 47.3125 23.109375 46.609375 \nQ 20.703125 45.90625 18.65625 44.09375 \nQ 16.609375 42.28125 15.1875 39.171875 \nQ 13.765625 36.078125 13.578125 31.296875 \nz\n\" id=\"LiberationSans-101\"/>\n       <path d=\"M 29.9375 0 \nL 19.53125 0 \nL 0.34375 52.828125 \nL 9.71875 52.828125 \nL 21.34375 18.453125 \nQ 21.6875 17.390625 22.140625 15.84375 \nQ 22.609375 14.3125 23.09375 12.640625 \nQ 23.578125 10.984375 24 9.4375 \nQ 24.421875 7.90625 24.703125 6.890625 \nQ 25 7.90625 25.453125 9.4375 \nQ 25.921875 10.984375 26.40625 12.59375 \nQ 26.90625 14.203125 27.421875 15.734375 \nQ 27.9375 17.28125 28.328125 18.359375 \nL 40.328125 52.828125 \nL 49.65625 52.828125 \nz\n\" id=\"LiberationSans-118\"/>\n       <path d=\"M 6.6875 64.0625 \nL 6.6875 72.46875 \nL 15.484375 72.46875 \nL 15.484375 64.0625 \nz\nM 6.6875 0 \nL 6.6875 52.828125 \nL 15.484375 52.828125 \nL 15.484375 0 \nz\n\" id=\"LiberationSans-105\"/>\n       <path d=\"M 51.421875 26.46875 \nQ 51.421875 12.59375 45.3125 5.796875 \nQ 39.203125 -0.984375 27.59375 -0.984375 \nQ 22.078125 -0.984375 17.71875 0.671875 \nQ 13.375 2.34375 10.375 5.765625 \nQ 7.375 9.1875 5.78125 14.328125 \nQ 4.203125 19.484375 4.203125 26.46875 \nQ 4.203125 53.8125 27.875 53.8125 \nQ 34.03125 53.8125 38.5 52.09375 \nQ 42.96875 50.390625 45.828125 46.96875 \nQ 48.6875 43.5625 50.046875 38.421875 \nQ 51.421875 33.296875 51.421875 26.46875 \nz\nM 42.1875 26.46875 \nQ 42.1875 32.625 41.234375 36.625 \nQ 40.28125 40.625 38.453125 43.015625 \nQ 36.625 45.40625 33.984375 46.359375 \nQ 31.34375 47.3125 28.03125 47.3125 \nQ 24.65625 47.3125 21.9375 46.3125 \nQ 19.234375 45.3125 17.328125 42.890625 \nQ 15.4375 40.484375 14.421875 36.46875 \nQ 13.421875 32.46875 13.421875 26.46875 \nQ 13.421875 20.3125 14.5 16.28125 \nQ 15.578125 12.25 17.453125 9.859375 \nQ 19.34375 7.46875 21.90625 6.484375 \nQ 24.46875 5.515625 27.484375 5.515625 \nQ 30.859375 5.515625 33.59375 6.46875 \nQ 36.328125 7.421875 38.234375 9.8125 \nQ 40.140625 12.203125 41.15625 16.25 \nQ 42.1875 20.3125 42.1875 26.46875 \nz\n\" id=\"LiberationSans-111\"/>\n      </defs>\n      <use xlink:href=\"#LiberationSans-115\"/>\n      <use x=\"50\" xlink:href=\"#LiberationSans-116\"/>\n      <use x=\"77.783203\" xlink:href=\"#LiberationSans-97\"/>\n      <use x=\"133.398438\" xlink:href=\"#LiberationSans-110\"/>\n      <use x=\"189.013672\" xlink:href=\"#LiberationSans-100\"/>\n      <use x=\"244.628906\" xlink:href=\"#LiberationSans-97\"/>\n      <use x=\"300.244141\" xlink:href=\"#LiberationSans-114\"/>\n      <use x=\"333.544922\" xlink:href=\"#LiberationSans-100\"/>\n      <use x=\"389.160156\" xlink:href=\"#LiberationSans-32\"/>\n      <use x=\"416.943359\" xlink:href=\"#LiberationSans-100\"/>\n      <use x=\"472.558594\" xlink:href=\"#LiberationSans-101\"/>\n      <use x=\"528.173828\" xlink:href=\"#LiberationSans-118\"/>\n      <use x=\"578.173828\" xlink:href=\"#LiberationSans-105\"/>\n      <use x=\"600.390625\" xlink:href=\"#LiberationSans-97\"/>\n      <use x=\"656.005859\" xlink:href=\"#LiberationSans-116\"/>\n      <use x=\"683.789062\" xlink:href=\"#LiberationSans-105\"/>\n      <use x=\"706.005859\" xlink:href=\"#LiberationSans-111\"/>\n      <use x=\"761.621094\" xlink:href=\"#LiberationSans-110\"/>\n     </g>\n    </g>\n   </g>\n   <g id=\"matplotlib.axis_2\">\n    <g id=\"ytick_1\">\n     <g id=\"line2d_15\">\n      <path clip-path=\"url(#p3ba16d14c0)\" d=\"M 54.884375 219.461439 \nL 389.684375 219.461439 \n\" style=\"fill:none;stroke:#cccccc;stroke-linecap:round;stroke-width:0.8;\"/>\n     </g>\n     <g id=\"line2d_16\"/>\n     <g id=\"text_9\">\n      <!-- −0.008 -->\n      <g style=\"fill:#262626;\" transform=\"translate(20.521875 223.084877)scale(0.1 -0.1)\">\n       <defs>\n        <path d=\"M 4.9375 29.6875 \nL 4.9375 36.8125 \nL 53.515625 36.8125 \nL 53.515625 29.6875 \nz\n\" id=\"LiberationSans-8722\"/>\n       </defs>\n       <use xlink:href=\"#LiberationSans-8722\"/>\n       <use x=\"58.398438\" xlink:href=\"#LiberationSans-48\"/>\n       <use x=\"114.013672\" xlink:href=\"#LiberationSans-46\"/>\n       <use x=\"141.796875\" xlink:href=\"#LiberationSans-48\"/>\n       <use x=\"197.412109\" xlink:href=\"#LiberationSans-48\"/>\n       <use x=\"253.027344\" xlink:href=\"#LiberationSans-56\"/>\n      </g>\n     </g>\n    </g>\n    <g id=\"ytick_2\">\n     <g id=\"line2d_17\">\n      <path clip-path=\"url(#p3ba16d14c0)\" d=\"M 54.884375 193.900764 \nL 389.684375 193.900764 \n\" style=\"fill:none;stroke:#cccccc;stroke-linecap:round;stroke-width:0.8;\"/>\n     </g>\n     <g id=\"line2d_18\"/>\n     <g id=\"text_10\">\n      <!-- −0.006 -->\n      <g style=\"fill:#262626;\" transform=\"translate(20.521875 197.524201)scale(0.1 -0.1)\">\n       <use xlink:href=\"#LiberationSans-8722\"/>\n       <use x=\"58.398438\" xlink:href=\"#LiberationSans-48\"/>\n       <use x=\"114.013672\" xlink:href=\"#LiberationSans-46\"/>\n       <use x=\"141.796875\" xlink:href=\"#LiberationSans-48\"/>\n       <use x=\"197.412109\" xlink:href=\"#LiberationSans-48\"/>\n       <use x=\"253.027344\" xlink:href=\"#LiberationSans-54\"/>\n      </g>\n     </g>\n    </g>\n    <g id=\"ytick_3\">\n     <g id=\"line2d_19\">\n      <path clip-path=\"url(#p3ba16d14c0)\" d=\"M 54.884375 168.340088 \nL 389.684375 168.340088 \n\" style=\"fill:none;stroke:#cccccc;stroke-linecap:round;stroke-width:0.8;\"/>\n     </g>\n     <g id=\"line2d_20\"/>\n     <g id=\"text_11\">\n      <!-- −0.004 -->\n      <g style=\"fill:#262626;\" transform=\"translate(20.521875 171.963525)scale(0.1 -0.1)\">\n       <use xlink:href=\"#LiberationSans-8722\"/>\n       <use x=\"58.398438\" xlink:href=\"#LiberationSans-48\"/>\n       <use x=\"114.013672\" xlink:href=\"#LiberationSans-46\"/>\n       <use x=\"141.796875\" xlink:href=\"#LiberationSans-48\"/>\n       <use x=\"197.412109\" xlink:href=\"#LiberationSans-48\"/>\n       <use x=\"253.027344\" xlink:href=\"#LiberationSans-52\"/>\n      </g>\n     </g>\n    </g>\n    <g id=\"ytick_4\">\n     <g id=\"line2d_21\">\n      <path clip-path=\"url(#p3ba16d14c0)\" d=\"M 54.884375 142.779412 \nL 389.684375 142.779412 \n\" style=\"fill:none;stroke:#cccccc;stroke-linecap:round;stroke-width:0.8;\"/>\n     </g>\n     <g id=\"line2d_22\"/>\n     <g id=\"text_12\">\n      <!-- −0.002 -->\n      <g style=\"fill:#262626;\" transform=\"translate(20.521875 146.402849)scale(0.1 -0.1)\">\n       <use xlink:href=\"#LiberationSans-8722\"/>\n       <use x=\"58.398438\" xlink:href=\"#LiberationSans-48\"/>\n       <use x=\"114.013672\" xlink:href=\"#LiberationSans-46\"/>\n       <use x=\"141.796875\" xlink:href=\"#LiberationSans-48\"/>\n       <use x=\"197.412109\" xlink:href=\"#LiberationSans-48\"/>\n       <use x=\"253.027344\" xlink:href=\"#LiberationSans-50\"/>\n      </g>\n     </g>\n    </g>\n    <g id=\"ytick_5\">\n     <g id=\"line2d_23\">\n      <path clip-path=\"url(#p3ba16d14c0)\" d=\"M 54.884375 117.218736 \nL 389.684375 117.218736 \n\" style=\"fill:none;stroke:#cccccc;stroke-linecap:round;stroke-width:0.8;\"/>\n     </g>\n     <g id=\"line2d_24\"/>\n     <g id=\"text_13\">\n      <!-- 0.000 -->\n      <g style=\"fill:#262626;\" transform=\"translate(26.3625 120.842173)scale(0.1 -0.1)\">\n       <use xlink:href=\"#LiberationSans-48\"/>\n       <use x=\"55.615234\" xlink:href=\"#LiberationSans-46\"/>\n       <use x=\"83.398438\" xlink:href=\"#LiberationSans-48\"/>\n       <use x=\"139.013672\" xlink:href=\"#LiberationSans-48\"/>\n       <use x=\"194.628906\" xlink:href=\"#LiberationSans-48\"/>\n      </g>\n     </g>\n    </g>\n    <g id=\"ytick_6\">\n     <g id=\"line2d_25\">\n      <path clip-path=\"url(#p3ba16d14c0)\" d=\"M 54.884375 91.65806 \nL 389.684375 91.65806 \n\" style=\"fill:none;stroke:#cccccc;stroke-linecap:round;stroke-width:0.8;\"/>\n     </g>\n     <g id=\"line2d_26\"/>\n     <g id=\"text_14\">\n      <!-- 0.002 -->\n      <g style=\"fill:#262626;\" transform=\"translate(26.3625 95.281497)scale(0.1 -0.1)\">\n       <use xlink:href=\"#LiberationSans-48\"/>\n       <use x=\"55.615234\" xlink:href=\"#LiberationSans-46\"/>\n       <use x=\"83.398438\" xlink:href=\"#LiberationSans-48\"/>\n       <use x=\"139.013672\" xlink:href=\"#LiberationSans-48\"/>\n       <use x=\"194.628906\" xlink:href=\"#LiberationSans-50\"/>\n      </g>\n     </g>\n    </g>\n    <g id=\"ytick_7\">\n     <g id=\"line2d_27\">\n      <path clip-path=\"url(#p3ba16d14c0)\" d=\"M 54.884375 66.097384 \nL 389.684375 66.097384 \n\" style=\"fill:none;stroke:#cccccc;stroke-linecap:round;stroke-width:0.8;\"/>\n     </g>\n     <g id=\"line2d_28\"/>\n     <g id=\"text_15\">\n      <!-- 0.004 -->\n      <g style=\"fill:#262626;\" transform=\"translate(26.3625 69.720821)scale(0.1 -0.1)\">\n       <use xlink:href=\"#LiberationSans-48\"/>\n       <use x=\"55.615234\" xlink:href=\"#LiberationSans-46\"/>\n       <use x=\"83.398438\" xlink:href=\"#LiberationSans-48\"/>\n       <use x=\"139.013672\" xlink:href=\"#LiberationSans-48\"/>\n       <use x=\"194.628906\" xlink:href=\"#LiberationSans-52\"/>\n      </g>\n     </g>\n    </g>\n    <g id=\"ytick_8\">\n     <g id=\"line2d_29\">\n      <path clip-path=\"url(#p3ba16d14c0)\" d=\"M 54.884375 40.536708 \nL 389.684375 40.536708 \n\" style=\"fill:none;stroke:#cccccc;stroke-linecap:round;stroke-width:0.8;\"/>\n     </g>\n     <g id=\"line2d_30\"/>\n     <g id=\"text_16\">\n      <!-- 0.006 -->\n      <g style=\"fill:#262626;\" transform=\"translate(26.3625 44.160146)scale(0.1 -0.1)\">\n       <use xlink:href=\"#LiberationSans-48\"/>\n       <use x=\"55.615234\" xlink:href=\"#LiberationSans-46\"/>\n       <use x=\"83.398438\" xlink:href=\"#LiberationSans-48\"/>\n       <use x=\"139.013672\" xlink:href=\"#LiberationSans-48\"/>\n       <use x=\"194.628906\" xlink:href=\"#LiberationSans-54\"/>\n      </g>\n     </g>\n    </g>\n    <g id=\"ytick_9\">\n     <g id=\"line2d_31\">\n      <path clip-path=\"url(#p3ba16d14c0)\" d=\"M 54.884375 14.976032 \nL 389.684375 14.976032 \n\" style=\"fill:none;stroke:#cccccc;stroke-linecap:round;stroke-width:0.8;\"/>\n     </g>\n     <g id=\"line2d_32\"/>\n     <g id=\"text_17\">\n      <!-- 0.008 -->\n      <g style=\"fill:#262626;\" transform=\"translate(26.3625 18.59947)scale(0.1 -0.1)\">\n       <use xlink:href=\"#LiberationSans-48\"/>\n       <use x=\"55.615234\" xlink:href=\"#LiberationSans-46\"/>\n       <use x=\"83.398438\" xlink:href=\"#LiberationSans-48\"/>\n       <use x=\"139.013672\" xlink:href=\"#LiberationSans-48\"/>\n       <use x=\"194.628906\" xlink:href=\"#LiberationSans-56\"/>\n      </g>\n     </g>\n    </g>\n    <g id=\"text_18\">\n     <!-- mean return -->\n     <g style=\"fill:#262626;\" transform=\"translate(14.446875 142.875469)rotate(-90)scale(0.1 -0.1)\">\n      <defs>\n       <path d=\"M 37.5 0 \nL 37.5 33.5 \nQ 37.5 37.359375 37.015625 39.9375 \nQ 36.53125 42.53125 35.375 44.109375 \nQ 34.234375 45.703125 32.375 46.359375 \nQ 30.515625 47.015625 27.828125 47.015625 \nQ 25.046875 47.015625 22.796875 45.921875 \nQ 20.5625 44.828125 18.96875 42.75 \nQ 17.390625 40.671875 16.53125 37.625 \nQ 15.671875 34.578125 15.671875 30.609375 \nL 15.671875 0 \nL 6.9375 0 \nL 6.9375 41.546875 \nQ 6.9375 43.21875 6.90625 45.046875 \nQ 6.890625 46.875 6.828125 48.5 \nQ 6.78125 50.140625 6.734375 51.3125 \nQ 6.6875 52.484375 6.640625 52.828125 \nL 14.9375 52.828125 \nQ 14.984375 52.59375 15.03125 51.515625 \nQ 15.09375 50.4375 15.15625 49.046875 \nQ 15.234375 47.65625 15.28125 46.21875 \nQ 15.328125 44.78125 15.328125 43.796875 \nL 15.484375 43.796875 \nQ 16.65625 46.09375 18.015625 47.953125 \nQ 19.390625 49.8125 21.21875 51.09375 \nQ 23.046875 52.390625 25.40625 53.09375 \nQ 27.78125 53.8125 30.90625 53.8125 \nQ 36.921875 53.8125 40.40625 51.421875 \nQ 43.890625 49.03125 45.265625 43.796875 \nL 45.40625 43.796875 \nQ 46.578125 46.09375 48.046875 47.953125 \nQ 49.515625 49.8125 51.46875 51.09375 \nQ 53.421875 52.390625 55.859375 53.09375 \nQ 58.296875 53.8125 61.421875 53.8125 \nQ 65.4375 53.8125 68.328125 52.734375 \nQ 71.234375 51.65625 73.09375 49.40625 \nQ 74.953125 47.171875 75.828125 43.625 \nQ 76.703125 40.09375 76.703125 35.203125 \nL 76.703125 0 \nL 68.015625 0 \nL 68.015625 33.5 \nQ 68.015625 37.359375 67.53125 39.9375 \nQ 67.046875 42.53125 65.890625 44.109375 \nQ 64.75 45.703125 62.890625 46.359375 \nQ 61.03125 47.015625 58.34375 47.015625 \nQ 55.5625 47.015625 53.3125 45.96875 \nQ 51.078125 44.921875 49.484375 42.875 \nQ 47.90625 40.828125 47.046875 37.75 \nQ 46.1875 34.671875 46.1875 30.609375 \nL 46.1875 0 \nz\n\" id=\"LiberationSans-109\"/>\n       <path d=\"M 15.328125 52.828125 \nL 15.328125 19.34375 \nQ 15.328125 15.484375 15.890625 12.890625 \nQ 16.453125 10.296875 17.71875 8.703125 \nQ 19 7.125 21.0625 6.46875 \nQ 23.140625 5.8125 26.21875 5.8125 \nQ 29.34375 5.8125 31.859375 6.90625 \nQ 34.375 8.015625 36.15625 10.078125 \nQ 37.9375 12.15625 38.90625 15.203125 \nQ 39.890625 18.265625 39.890625 22.21875 \nL 39.890625 52.828125 \nL 48.6875 52.828125 \nL 48.6875 11.28125 \nQ 48.6875 9.625 48.703125 7.78125 \nQ 48.734375 5.953125 48.78125 4.3125 \nQ 48.828125 2.6875 48.875 1.515625 \nQ 48.921875 0.34375 48.96875 0 \nL 40.671875 0 \nQ 40.625 0.25 40.578125 1.3125 \nQ 40.53125 2.390625 40.453125 3.78125 \nQ 40.375 5.171875 40.328125 6.609375 \nQ 40.28125 8.0625 40.28125 9.03125 \nL 40.140625 9.03125 \nQ 38.875 6.734375 37.359375 4.875 \nQ 35.84375 3.03125 33.84375 1.734375 \nQ 31.84375 0.4375 29.25 -0.265625 \nQ 26.65625 -0.984375 23.25 -0.984375 \nQ 18.84375 -0.984375 15.671875 0.09375 \nQ 12.5 1.171875 10.453125 3.421875 \nQ 8.40625 5.671875 7.453125 9.1875 \nQ 6.5 12.703125 6.5 17.625 \nL 6.5 52.828125 \nz\n\" id=\"LiberationSans-117\"/>\n      </defs>\n      <use xlink:href=\"#LiberationSans-109\"/>\n      <use x=\"83.300781\" xlink:href=\"#LiberationSans-101\"/>\n      <use x=\"138.916016\" xlink:href=\"#LiberationSans-97\"/>\n      <use x=\"194.53125\" xlink:href=\"#LiberationSans-110\"/>\n      <use x=\"250.146484\" xlink:href=\"#LiberationSans-32\"/>\n      <use x=\"277.929688\" xlink:href=\"#LiberationSans-114\"/>\n      <use x=\"311.230469\" xlink:href=\"#LiberationSans-101\"/>\n      <use x=\"366.845703\" xlink:href=\"#LiberationSans-116\"/>\n      <use x=\"394.628906\" xlink:href=\"#LiberationSans-117\"/>\n      <use x=\"450.244141\" xlink:href=\"#LiberationSans-114\"/>\n      <use x=\"483.544922\" xlink:href=\"#LiberationSans-110\"/>\n     </g>\n    </g>\n   </g>\n   <g id=\"line2d_33\">\n    <defs>\n     <path d=\"M 0 3 \nC 0.795609 3 1.55874 2.683901 2.12132 2.12132 \nC 2.683901 1.55874 3 0.795609 3 0 \nC 3 -0.795609 2.683901 -1.55874 2.12132 -2.12132 \nC 1.55874 -2.683901 0.795609 -3 0 -3 \nC -0.795609 -3 -1.55874 -2.683901 -2.12132 -2.12132 \nC -2.683901 -1.55874 -3 -0.795609 -3 0 \nC -3 0.795609 -2.683901 1.55874 -2.12132 2.12132 \nC -1.55874 2.683901 -0.795609 3 0 3 \nz\n\" id=\"m363c96b44b\" style=\"stroke:#000000;\"/>\n    </defs>\n    <g clip-path=\"url(#p3ba16d14c0)\">\n     <use style=\"stroke:#000000;\" x=\"92.590797\" xlink:href=\"#m363c96b44b\" y=\"96.471222\"/>\n     <use style=\"stroke:#000000;\" x=\"162.032656\" xlink:href=\"#m363c96b44b\" y=\"73.396016\"/>\n     <use style=\"stroke:#000000;\" x=\"207.260432\" xlink:href=\"#m363c96b44b\" y=\"137.073346\"/>\n     <use style=\"stroke:#000000;\" x=\"109.757231\" xlink:href=\"#m363c96b44b\" y=\"104.219542\"/>\n     <use style=\"stroke:#000000;\" x=\"138.205716\" xlink:href=\"#m363c96b44b\" y=\"126.336739\"/>\n     <use style=\"stroke:#000000;\" x=\"136.786604\" xlink:href=\"#m363c96b44b\" y=\"103.146392\"/>\n     <use style=\"stroke:#000000;\" x=\"97.546931\" xlink:href=\"#m363c96b44b\" y=\"99.256489\"/>\n     <use style=\"stroke:#000000;\" x=\"90.113666\" xlink:href=\"#m363c96b44b\" y=\"104.452647\"/>\n     <use style=\"stroke:#000000;\" x=\"100.569117\" xlink:href=\"#m363c96b44b\" y=\"106.521993\"/>\n     <use style=\"stroke:#000000;\" x=\"128.817248\" xlink:href=\"#m363c96b44b\" y=\"128.733669\"/>\n     <use style=\"stroke:#000000;\" x=\"147.892339\" xlink:href=\"#m363c96b44b\" y=\"86.267423\"/>\n     <use style=\"stroke:#000000;\" x=\"126.663717\" xlink:href=\"#m363c96b44b\" y=\"101.552394\"/>\n     <use style=\"stroke:#000000;\" x=\"167.884135\" xlink:href=\"#m363c96b44b\" y=\"97.892882\"/>\n     <use style=\"stroke:#000000;\" x=\"96.237861\" xlink:href=\"#m363c96b44b\" y=\"94.714103\"/>\n     <use style=\"stroke:#000000;\" x=\"146.156069\" xlink:href=\"#m363c96b44b\" y=\"124.2841\"/>\n     <use style=\"stroke:#000000;\" x=\"127.697739\" xlink:href=\"#m363c96b44b\" y=\"100.852239\"/>\n     <use style=\"stroke:#000000;\" x=\"260.011696\" xlink:href=\"#m363c96b44b\" y=\"138.611083\"/>\n     <use style=\"stroke:#000000;\" x=\"139.337473\" xlink:href=\"#m363c96b44b\" y=\"116.60563\"/>\n     <use style=\"stroke:#000000;\" x=\"137.241051\" xlink:href=\"#m363c96b44b\" y=\"112.536973\"/>\n     <use style=\"stroke:#000000;\" x=\"150.92262\" xlink:href=\"#m363c96b44b\" y=\"114.807294\"/>\n     <use style=\"stroke:#000000;\" x=\"131.201444\" xlink:href=\"#m363c96b44b\" y=\"82.241997\"/>\n     <use style=\"stroke:#000000;\" x=\"123.176617\" xlink:href=\"#m363c96b44b\" y=\"107.537606\"/>\n     <use style=\"stroke:#000000;\" x=\"99.442188\" xlink:href=\"#m363c96b44b\" y=\"99.37913\"/>\n     <use style=\"stroke:#000000;\" x=\"111.237627\" xlink:href=\"#m363c96b44b\" y=\"110.026821\"/>\n     <use style=\"stroke:#000000;\" x=\"279.170695\" xlink:href=\"#m363c96b44b\" y=\"164.12479\"/>\n     <use style=\"stroke:#000000;\" x=\"210.74114\" xlink:href=\"#m363c96b44b\" y=\"115.363438\"/>\n     <use style=\"stroke:#000000;\" x=\"117.961305\" xlink:href=\"#m363c96b44b\" y=\"93.738852\"/>\n     <use style=\"stroke:#000000;\" x=\"113.264239\" xlink:href=\"#m363c96b44b\" y=\"123.43964\"/>\n     <use style=\"stroke:#000000;\" x=\"97.693606\" xlink:href=\"#m363c96b44b\" y=\"94.614635\"/>\n     <use style=\"stroke:#000000;\" x=\"186.644813\" xlink:href=\"#m363c96b44b\" y=\"90.642\"/>\n     <use style=\"stroke:#000000;\" x=\"191.491698\" xlink:href=\"#m363c96b44b\" y=\"104.23301\"/>\n     <use style=\"stroke:#000000;\" x=\"154.662955\" xlink:href=\"#m363c96b44b\" y=\"110.06916\"/>\n     <use style=\"stroke:#000000;\" x=\"89.824873\" xlink:href=\"#m363c96b44b\" y=\"107.096901\"/>\n     <use style=\"stroke:#000000;\" x=\"131.627998\" xlink:href=\"#m363c96b44b\" y=\"116.377724\"/>\n     <use style=\"stroke:#000000;\" x=\"102.714552\" xlink:href=\"#m363c96b44b\" y=\"123.895936\"/>\n     <use style=\"stroke:#000000;\" x=\"136.584958\" xlink:href=\"#m363c96b44b\" y=\"113.974781\"/>\n     <use style=\"stroke:#000000;\" x=\"140.012104\" xlink:href=\"#m363c96b44b\" y=\"91.444075\"/>\n     <use style=\"stroke:#000000;\" x=\"180.610439\" xlink:href=\"#m363c96b44b\" y=\"108.149876\"/>\n     <use style=\"stroke:#000000;\" x=\"115.18393\" xlink:href=\"#m363c96b44b\" y=\"111.130084\"/>\n     <use style=\"stroke:#000000;\" x=\"130.457238\" xlink:href=\"#m363c96b44b\" y=\"124.0228\"/>\n     <use style=\"stroke:#000000;\" x=\"150.870216\" xlink:href=\"#m363c96b44b\" y=\"80.550285\"/>\n     <use style=\"stroke:#000000;\" x=\"183.879243\" xlink:href=\"#m363c96b44b\" y=\"119.221294\"/>\n     <use style=\"stroke:#000000;\" x=\"127.428624\" xlink:href=\"#m363c96b44b\" y=\"93.858624\"/>\n     <use style=\"stroke:#000000;\" x=\"70.102557\" xlink:href=\"#m363c96b44b\" y=\"115.375764\"/>\n     <use style=\"stroke:#000000;\" x=\"103.240765\" xlink:href=\"#m363c96b44b\" y=\"116.362284\"/>\n     <use style=\"stroke:#000000;\" x=\"148.052963\" xlink:href=\"#m363c96b44b\" y=\"104.982908\"/>\n     <use style=\"stroke:#000000;\" x=\"111.261925\" xlink:href=\"#m363c96b44b\" y=\"114.698283\"/>\n     <use style=\"stroke:#000000;\" x=\"218.163334\" xlink:href=\"#m363c96b44b\" y=\"63.540373\"/>\n     <use style=\"stroke:#000000;\" x=\"123.482332\" xlink:href=\"#m363c96b44b\" y=\"109.318134\"/>\n     <use style=\"stroke:#000000;\" x=\"97.650599\" xlink:href=\"#m363c96b44b\" y=\"114.663161\"/>\n     <use style=\"stroke:#000000;\" x=\"164.489941\" xlink:href=\"#m363c96b44b\" y=\"79.753938\"/>\n     <use style=\"stroke:#000000;\" x=\"124.240487\" xlink:href=\"#m363c96b44b\" y=\"79.507253\"/>\n     <use style=\"stroke:#000000;\" x=\"94.761313\" xlink:href=\"#m363c96b44b\" y=\"105.252135\"/>\n     <use style=\"stroke:#000000;\" x=\"148.544549\" xlink:href=\"#m363c96b44b\" y=\"108.201455\"/>\n     <use style=\"stroke:#000000;\" x=\"121.303486\" xlink:href=\"#m363c96b44b\" y=\"105.361775\"/>\n     <use style=\"stroke:#000000;\" x=\"153.89756\" xlink:href=\"#m363c96b44b\" y=\"113.565346\"/>\n     <use style=\"stroke:#000000;\" x=\"103.46287\" xlink:href=\"#m363c96b44b\" y=\"121.291057\"/>\n     <use style=\"stroke:#000000;\" x=\"122.627438\" xlink:href=\"#m363c96b44b\" y=\"109.923421\"/>\n     <use style=\"stroke:#000000;\" x=\"260.928175\" xlink:href=\"#m363c96b44b\" y=\"115.860558\"/>\n     <use style=\"stroke:#000000;\" x=\"113.33076\" xlink:href=\"#m363c96b44b\" y=\"101.488634\"/>\n     <use style=\"stroke:#000000;\" x=\"143.624598\" xlink:href=\"#m363c96b44b\" y=\"119.634222\"/>\n     <use style=\"stroke:#000000;\" x=\"157.585846\" xlink:href=\"#m363c96b44b\" y=\"128.761446\"/>\n     <use style=\"stroke:#000000;\" x=\"372.222642\" xlink:href=\"#m363c96b44b\" y=\"214.756364\"/>\n     <use style=\"stroke:#000000;\" x=\"208.878976\" xlink:href=\"#m363c96b44b\" y=\"112.286173\"/>\n     <use style=\"stroke:#000000;\" x=\"98.649621\" xlink:href=\"#m363c96b44b\" y=\"113.789445\"/>\n     <use style=\"stroke:#000000;\" x=\"145.502272\" xlink:href=\"#m363c96b44b\" y=\"108.298844\"/>\n     <use style=\"stroke:#000000;\" x=\"137.63893\" xlink:href=\"#m363c96b44b\" y=\"103.806594\"/>\n     <use style=\"stroke:#000000;\" x=\"110.012111\" xlink:href=\"#m363c96b44b\" y=\"90.857374\"/>\n     <use style=\"stroke:#000000;\" x=\"188.304128\" xlink:href=\"#m363c96b44b\" y=\"110.738408\"/>\n     <use style=\"stroke:#000000;\" x=\"133.435749\" xlink:href=\"#m363c96b44b\" y=\"94.824229\"/>\n     <use style=\"stroke:#000000;\" x=\"135.230901\" xlink:href=\"#m363c96b44b\" y=\"108.672419\"/>\n     <use style=\"stroke:#000000;\" x=\"241.749657\" xlink:href=\"#m363c96b44b\" y=\"113.273328\"/>\n     <use style=\"stroke:#000000;\" x=\"112.100994\" xlink:href=\"#m363c96b44b\" y=\"113.973704\"/>\n     <use style=\"stroke:#000000;\" x=\"97.421641\" xlink:href=\"#m363c96b44b\" y=\"114.529404\"/>\n     <use style=\"stroke:#000000;\" x=\"99.04805\" xlink:href=\"#m363c96b44b\" y=\"106.032537\"/>\n     <use style=\"stroke:#000000;\" x=\"121.019565\" xlink:href=\"#m363c96b44b\" y=\"115.50435\"/>\n     <use style=\"stroke:#000000;\" x=\"206.129271\" xlink:href=\"#m363c96b44b\" y=\"123.597981\"/>\n     <use style=\"stroke:#000000;\" x=\"116.864616\" xlink:href=\"#m363c96b44b\" y=\"115.901984\"/>\n     <use style=\"stroke:#000000;\" x=\"151.464648\" xlink:href=\"#m363c96b44b\" y=\"123.67675\"/>\n     <use style=\"stroke:#000000;\" x=\"192.856408\" xlink:href=\"#m363c96b44b\" y=\"104.940066\"/>\n     <use style=\"stroke:#000000;\" x=\"132.987007\" xlink:href=\"#m363c96b44b\" y=\"86.238508\"/>\n     <use style=\"stroke:#000000;\" x=\"93.872347\" xlink:href=\"#m363c96b44b\" y=\"112.930024\"/>\n     <use style=\"stroke:#000000;\" x=\"116.012092\" xlink:href=\"#m363c96b44b\" y=\"123.42163\"/>\n     <use style=\"stroke:#000000;\" x=\"147.838412\" xlink:href=\"#m363c96b44b\" y=\"119.500231\"/>\n     <use style=\"stroke:#000000;\" x=\"115.970633\" xlink:href=\"#m363c96b44b\" y=\"101.529448\"/>\n     <use style=\"stroke:#000000;\" x=\"158.188393\" xlink:href=\"#m363c96b44b\" y=\"100.121339\"/>\n     <use style=\"stroke:#000000;\" x=\"107.200829\" xlink:href=\"#m363c96b44b\" y=\"119.273198\"/>\n     <use style=\"stroke:#000000;\" x=\"150.779425\" xlink:href=\"#m363c96b44b\" y=\"86.814665\"/>\n     <use style=\"stroke:#000000;\" x=\"108.281525\" xlink:href=\"#m363c96b44b\" y=\"113.328163\"/>\n     <use style=\"stroke:#000000;\" x=\"150.467372\" xlink:href=\"#m363c96b44b\" y=\"104.080454\"/>\n     <use style=\"stroke:#000000;\" x=\"78.783106\" xlink:href=\"#m363c96b44b\" y=\"115.017729\"/>\n     <use style=\"stroke:#000000;\" x=\"119.210202\" xlink:href=\"#m363c96b44b\" y=\"98.650278\"/>\n     <use style=\"stroke:#000000;\" x=\"102.285682\" xlink:href=\"#m363c96b44b\" y=\"119.150658\"/>\n     <use style=\"stroke:#000000;\" x=\"155.776467\" xlink:href=\"#m363c96b44b\" y=\"66.667173\"/>\n     <use style=\"stroke:#000000;\" x=\"159.581784\" xlink:href=\"#m363c96b44b\" y=\"122.387013\"/>\n     <use style=\"stroke:#000000;\" x=\"374.466193\" xlink:href=\"#m363c96b44b\" y=\"97.039951\"/>\n     <use style=\"stroke:#000000;\" x=\"109.370912\" xlink:href=\"#m363c96b44b\" y=\"105.957211\"/>\n     <use style=\"stroke:#000000;\" x=\"107.813367\" xlink:href=\"#m363c96b44b\" y=\"99.243609\"/>\n     <use style=\"stroke:#000000;\" x=\"127.905666\" xlink:href=\"#m363c96b44b\" y=\"85.233113\"/>\n     <use style=\"stroke:#000000;\" x=\"102.489947\" xlink:href=\"#m363c96b44b\" y=\"113.490712\"/>\n     <use style=\"stroke:#000000;\" x=\"125.888617\" xlink:href=\"#m363c96b44b\" y=\"120.885064\"/>\n     <use style=\"stroke:#000000;\" x=\"128.191423\" xlink:href=\"#m363c96b44b\" y=\"116.799581\"/>\n     <use style=\"stroke:#000000;\" x=\"117.536933\" xlink:href=\"#m363c96b44b\" y=\"128.633712\"/>\n     <use style=\"stroke:#000000;\" x=\"139.800002\" xlink:href=\"#m363c96b44b\" y=\"91.926116\"/>\n     <use style=\"stroke:#000000;\" x=\"286.437497\" xlink:href=\"#m363c96b44b\" y=\"124.022472\"/>\n     <use style=\"stroke:#000000;\" x=\"143.556879\" xlink:href=\"#m363c96b44b\" y=\"72.947533\"/>\n     <use style=\"stroke:#000000;\" x=\"166.423752\" xlink:href=\"#m363c96b44b\" y=\"104.128379\"/>\n     <use style=\"stroke:#000000;\" x=\"103.68872\" xlink:href=\"#m363c96b44b\" y=\"124.916509\"/>\n     <use style=\"stroke:#000000;\" x=\"106.500196\" xlink:href=\"#m363c96b44b\" y=\"128.345342\"/>\n     <use style=\"stroke:#000000;\" x=\"130.04671\" xlink:href=\"#m363c96b44b\" y=\"85.791215\"/>\n     <use style=\"stroke:#000000;\" x=\"110.262576\" xlink:href=\"#m363c96b44b\" y=\"98.283622\"/>\n     <use style=\"stroke:#000000;\" x=\"151.836485\" xlink:href=\"#m363c96b44b\" y=\"76.110318\"/>\n     <use style=\"stroke:#000000;\" x=\"184.582518\" xlink:href=\"#m363c96b44b\" y=\"119.151574\"/>\n     <use style=\"stroke:#000000;\" x=\"117.810015\" xlink:href=\"#m363c96b44b\" y=\"105.835435\"/>\n     <use style=\"stroke:#000000;\" x=\"95.632728\" xlink:href=\"#m363c96b44b\" y=\"106.497563\"/>\n     <use style=\"stroke:#000000;\" x=\"98.443261\" xlink:href=\"#m363c96b44b\" y=\"113.430794\"/>\n     <use style=\"stroke:#000000;\" x=\"95.786005\" xlink:href=\"#m363c96b44b\" y=\"91.872605\"/>\n     <use style=\"stroke:#000000;\" x=\"187.016807\" xlink:href=\"#m363c96b44b\" y=\"62.2482\"/>\n     <use style=\"stroke:#000000;\" x=\"123.624444\" xlink:href=\"#m363c96b44b\" y=\"86.031753\"/>\n     <use style=\"stroke:#000000;\" x=\"104.510363\" xlink:href=\"#m363c96b44b\" y=\"108.797081\"/>\n     <use style=\"stroke:#000000;\" x=\"100.077281\" xlink:href=\"#m363c96b44b\" y=\"101.098706\"/>\n     <use style=\"stroke:#000000;\" x=\"165.090299\" xlink:href=\"#m363c96b44b\" y=\"109.216322\"/>\n     <use style=\"stroke:#000000;\" x=\"134.681452\" xlink:href=\"#m363c96b44b\" y=\"106.470817\"/>\n     <use style=\"stroke:#000000;\" x=\"287.079414\" xlink:href=\"#m363c96b44b\" y=\"53.294407\"/>\n     <use style=\"stroke:#000000;\" x=\"145.026477\" xlink:href=\"#m363c96b44b\" y=\"114.852034\"/>\n     <use style=\"stroke:#000000;\" x=\"149.594268\" xlink:href=\"#m363c96b44b\" y=\"83.295957\"/>\n     <use style=\"stroke:#000000;\" x=\"105.806773\" xlink:href=\"#m363c96b44b\" y=\"116.249258\"/>\n     <use style=\"stroke:#000000;\" x=\"89.499065\" xlink:href=\"#m363c96b44b\" y=\"113.127293\"/>\n     <use style=\"stroke:#000000;\" x=\"102.435977\" xlink:href=\"#m363c96b44b\" y=\"114.120605\"/>\n     <use style=\"stroke:#000000;\" x=\"155.087\" xlink:href=\"#m363c96b44b\" y=\"108.812957\"/>\n     <use style=\"stroke:#000000;\" x=\"207.66637\" xlink:href=\"#m363c96b44b\" y=\"17.083636\"/>\n     <use style=\"stroke:#000000;\" x=\"197.910229\" xlink:href=\"#m363c96b44b\" y=\"95.276459\"/>\n     <use style=\"stroke:#000000;\" x=\"160.987206\" xlink:href=\"#m363c96b44b\" y=\"114.257523\"/>\n     <use style=\"stroke:#000000;\" x=\"141.26542\" xlink:href=\"#m363c96b44b\" y=\"129.613103\"/>\n     <use style=\"stroke:#000000;\" x=\"138.785854\" xlink:href=\"#m363c96b44b\" y=\"97.460512\"/>\n     <use style=\"stroke:#000000;\" x=\"100.178266\" xlink:href=\"#m363c96b44b\" y=\"112.258835\"/>\n     <use style=\"stroke:#000000;\" x=\"101.875653\" xlink:href=\"#m363c96b44b\" y=\"115.260236\"/>\n     <use style=\"stroke:#000000;\" x=\"113.127142\" xlink:href=\"#m363c96b44b\" y=\"96.157825\"/>\n     <use style=\"stroke:#000000;\" x=\"142.003059\" xlink:href=\"#m363c96b44b\" y=\"115.102835\"/>\n     <use style=\"stroke:#000000;\" x=\"125.52731\" xlink:href=\"#m363c96b44b\" y=\"120.759107\"/>\n     <use style=\"stroke:#000000;\" x=\"200.118742\" xlink:href=\"#m363c96b44b\" y=\"118.705756\"/>\n     <use style=\"stroke:#000000;\" x=\"200.178338\" xlink:href=\"#m363c96b44b\" y=\"131.090528\"/>\n     <use style=\"stroke:#000000;\" x=\"199.475935\" xlink:href=\"#m363c96b44b\" y=\"76.73177\"/>\n     <use style=\"stroke:#000000;\" x=\"161.832904\" xlink:href=\"#m363c96b44b\" y=\"108.311958\"/>\n     <use style=\"stroke:#000000;\" x=\"194.694706\" xlink:href=\"#m363c96b44b\" y=\"91.593696\"/>\n     <use style=\"stroke:#000000;\" x=\"160.886069\" xlink:href=\"#m363c96b44b\" y=\"135.584816\"/>\n     <use style=\"stroke:#000000;\" x=\"110.56313\" xlink:href=\"#m363c96b44b\" y=\"96.931205\"/>\n     <use style=\"stroke:#000000;\" x=\"119.331701\" xlink:href=\"#m363c96b44b\" y=\"96.663328\"/>\n     <use style=\"stroke:#000000;\" x=\"133.424815\" xlink:href=\"#m363c96b44b\" y=\"103.814778\"/>\n     <use style=\"stroke:#000000;\" x=\"161.108917\" xlink:href=\"#m363c96b44b\" y=\"127.130349\"/>\n     <use style=\"stroke:#000000;\" x=\"98.586968\" xlink:href=\"#m363c96b44b\" y=\"93.926971\"/>\n     <use style=\"stroke:#000000;\" x=\"130.65178\" xlink:href=\"#m363c96b44b\" y=\"84.148795\"/>\n     <use style=\"stroke:#000000;\" x=\"109.858374\" xlink:href=\"#m363c96b44b\" y=\"105.72309\"/>\n     <use style=\"stroke:#000000;\" x=\"164.010599\" xlink:href=\"#m363c96b44b\" y=\"83.498274\"/>\n     <use style=\"stroke:#000000;\" x=\"156.952088\" xlink:href=\"#m363c96b44b\" y=\"65.558765\"/>\n     <use style=\"stroke:#000000;\" x=\"121.34617\" xlink:href=\"#m363c96b44b\" y=\"111.504904\"/>\n     <use style=\"stroke:#000000;\" x=\"114.907557\" xlink:href=\"#m363c96b44b\" y=\"91.787831\"/>\n     <use style=\"stroke:#000000;\" x=\"119.513697\" xlink:href=\"#m363c96b44b\" y=\"102.916565\"/>\n     <use style=\"stroke:#000000;\" x=\"135.855174\" xlink:href=\"#m363c96b44b\" y=\"98.253699\"/>\n     <use style=\"stroke:#000000;\" x=\"135.137524\" xlink:href=\"#m363c96b44b\" y=\"98.09983\"/>\n     <use style=\"stroke:#000000;\" x=\"111.76606\" xlink:href=\"#m363c96b44b\" y=\"104.214447\"/>\n     <use style=\"stroke:#000000;\" x=\"160.56751\" xlink:href=\"#m363c96b44b\" y=\"107.96824\"/>\n     <use style=\"stroke:#000000;\" x=\"140.864151\" xlink:href=\"#m363c96b44b\" y=\"80.004443\"/>\n    </g>\n   </g>\n   <g id=\"patch_3\">\n    <path d=\"M 54.884375 224.64 \nL 54.884375 7.2 \n\" style=\"fill:none;stroke:#cccccc;stroke-linecap:square;stroke-linejoin:miter;\"/>\n   </g>\n   <g id=\"patch_4\">\n    <path d=\"M 389.684375 224.64 \nL 389.684375 7.2 \n\" style=\"fill:none;stroke:#cccccc;stroke-linecap:square;stroke-linejoin:miter;\"/>\n   </g>\n   <g id=\"patch_5\">\n    <path d=\"M 54.884375 224.64 \nL 389.684375 224.64 \n\" style=\"fill:none;stroke:#cccccc;stroke-linecap:square;stroke-linejoin:miter;\"/>\n   </g>\n   <g id=\"patch_6\">\n    <path d=\"M 54.884375 7.2 \nL 389.684375 7.2 \n\" style=\"fill:none;stroke:#cccccc;stroke-linecap:square;stroke-linejoin:miter;\"/>\n   </g>\n  </g>\n </g>\n <defs>\n  <clipPath id=\"p3ba16d14c0\">\n   <rect height=\"217.44\" width=\"334.8\" x=\"54.884375\" y=\"7.2\"/>\n  </clipPath>\n </defs>\n</svg>\n",
      "image/png": "[encoded data removed]"
     },
     "metadata": {}
    }
   ],
   "source": [
    "plt.style.use('seaborn-whitegrid')\n",
    "plt.plot(x, y, 'o', color='black')\n",
    "plt.xlabel('standard deviation')\n",
    "plt.ylabel('mean return')\n",
    "plt.show()\n"
   ]
  }
 ]
}